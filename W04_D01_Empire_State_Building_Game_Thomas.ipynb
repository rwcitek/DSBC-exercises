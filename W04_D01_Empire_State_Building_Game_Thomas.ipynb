{
  "cells": [
    {
      "attachments": {},
      "cell_type": "markdown",
      "metadata": {
        "id": "Y0gj27yFkxcU"
      },
      "source": [
        "# Climbing The Steps of The Empire State Building Steps: The Game\n",
        "The objective is to create a Dice game logic, which will decide the odds of reaching Step number 60 of the Empire State Building in 100 rolls of the Dice. We would then simulate this sequence multiple times to calculate the probability of reaching step 60 in 100 tries using the Dice game logic.\n"
      ]
    },
    {
      "attachments": {},
      "cell_type": "markdown",
      "metadata": {
        "id": "rIAQoik6k7EW"
      },
      "source": [
        "# Rules\n",
        "For each random walk sequence we throw a Die.\n",
        "1. Step 0 at ground level, is the starting point.\n",
        "2. If the roll of the Die returns 1 or 2, climb down one step.\n",
        "3. If the roll of the Die returns 3, 4 or 5, go up one step.\n",
        "4. If the roll of the Die returns 6, throw the Die again and advance the number of steps equal to that throw.\n",
        "5. There is a little chance of being clumsy and falling down the Stairs in which case we start again from 0.\n",
        "6. The value of Steps cannot be negative, the lowest value would always be 0 (which is the starting point)."
      ]
    },
    {
      "attachments": {},
      "cell_type": "markdown",
      "metadata": {
        "id": "LcEXEE_PmsUr"
      },
      "source": [
        "# Some pointers that might help with the code:\n",
        "\n",
        "1. The function random.seed() may be used to make your results reproducible. \n",
        "2. To represent clumsiness of falling down, generate a random number between 0 and 1. If that number is less than .001, set the steps value to Zero as is the rule. \n",
        "3. You'll want to run the Dice game many times to calculate the probability of reaching step 60 in 100 rolls.\n",
        "\n",
        "\n"
      ]
    },
    {
      "cell_type": "markdown",
      "metadata": {
        "id": "aN2fhW-pk-fV"
      },
      "source": [
        "# Your Tasks\n",
        "1. Write code for the above Dice game. \n",
        "2. Estimate the probability of reaching step 60 in 100 rolls. \n",
        "3. Create a plot of your random walk results. "
      ]
    },
    {
      "cell_type": "markdown",
      "metadata": {
        "id": "EAZSqOf2noOe"
      },
      "source": [
        "# Solution\n"
      ]
    },
    {
      "cell_type": "code",
      "execution_count": null,
      "metadata": {
        "id": "-ZyeFqCFJLCO"
      },
      "outputs": [],
      "source": [
        "# goal = 60, fail = 65 range(0,101, i)\n",
        "# random generator, \n",
        "# if statement for 1 or 2 = -1\n",
        "# if statement for generating 3,4,5 = +1\n",
        "# if for 6 = roll again\n",
        "# .001 prob of step = 0\n",
        "# values must be above 0\n",
        "\n",
        "import random\n",
        "\n",
        "steps = 0\n",
        "i = 0\n",
        "roll_nums = 0\n",
        "\n",
        "di_roll = random.randint(0,7)\n",
        "\n",
        "while i < 5:\n",
        "  5\n",
        "  roll_nums += 1\n",
        "  if di_roll == 3:\n",
        "    steps += 1\n",
        "    i += steps\n",
        "    roll_nums += 1\n",
        "  if i == 5:\n",
        "    return roll_nums\n",
        "  print(roll_nums)"
      ]
    },
    {
      "cell_type": "code",
      "execution_count": null,
      "metadata": {
        "colab": {
          "base_uri": "https://localhost:8080/"
        },
        "id": "h84Wh3NUB10D",
        "outputId": "5795979b-ad07-4545-e84a-93d007b41e67"
      },
      "outputs": [
        {
          "name": "stdout",
          "output_type": "stream",
          "text": [
            "95\n"
          ]
        }
      ],
      "source": [
        "# goal = 60, (0,101, i)\n",
        "# random generator, \n",
        "# if statement for 1 or 2 = -1\n",
        "# if statement for generating 3,4,5 = +1\n",
        "# if for 6 = roll again\n",
        "# .001 prob of step = 0\n",
        "# values must be above 0\n",
        "\n",
        "import random\n",
        "\n",
        "\n",
        "def empire_steps():\n",
        "  steps = 0\n",
        "  i = 0\n",
        "  roll_nums = 0\n",
        "\n",
        "  while i < 60:\n",
        "    di_roll = random.randint(0,7)\n",
        "    roll_nums += 1\n",
        "    if di_roll == 3:\n",
        "      steps += 1\n",
        "      i += steps\n",
        "      roll_nums += 1\n",
        "    if roll_nums > 101:\n",
        "      print('You LOSE!')\n",
        "      return roll_nums\n",
        "  return roll_nums\n",
        "    \n",
        "print(empire_steps())"
      ]
    },
    {
      "cell_type": "code",
      "execution_count": null,
      "metadata": {
        "colab": {
          "base_uri": "https://localhost:8080/"
        },
        "id": "Wo1fRdPpV9u_",
        "outputId": "6006f167-ff74-46a0-e587-0a0f9e741636"
      },
      "outputs": [
        {
          "name": "stdout",
          "output_type": "stream",
          "text": [
            "54\n"
          ]
        }
      ],
      "source": [
        "import random\n",
        " \n",
        "def odds():\n",
        "    wins = 0\n",
        "    for games_played in range (1,100):\n",
        "      step = 0\n",
        "      \n",
        "      for i in range(1,100):\n",
        "        di_roll = random.randint(1,6)\n",
        "      \n",
        "        if di_roll in [3,4,5]:\n",
        "          step += 1\n",
        "        if di_roll in [1,2] and step > 0:\n",
        "          step -= 1\n",
        "        di_roll2 = random.randint(1,6)\n",
        "        if di_roll == 6:\n",
        "          step += di_roll2\n",
        "        restart = random.uniform(0,1)\n",
        "        if restart < .001:\n",
        "          step = 0\n",
        "        if step == 60:\n",
        "          wins += 1\n",
        "          break\n",
        "        #print(i, step, wins)\n",
        "    return wins\n",
        "\n",
        "print(odds())\n",
        "\n",
        "        \n",
        "    #print(i, di_roll, step, di_roll2)"
      ]
    },
    {
      "cell_type": "code",
      "execution_count": null,
      "metadata": {
        "colab": {
          "base_uri": "https://localhost:8080/",
          "height": 132
        },
        "id": "Jfjv1lrZji4o",
        "outputId": "ba7ee5d2-a8c1-45c3-91d8-fc9c3d4dfea8"
      },
      "outputs": [
        {
          "ename": "SyntaxError",
          "evalue": "ignored",
          "output_type": "error",
          "traceback": [
            "\u001b[0;36m  File \u001b[0;32m\"<ipython-input-243-8077475ec287>\"\u001b[0;36m, line \u001b[0;32m1\u001b[0m\n\u001b[0;31m    print(def odds())\u001b[0m\n\u001b[0m          ^\u001b[0m\n\u001b[0;31mSyntaxError\u001b[0m\u001b[0;31m:\u001b[0m invalid syntax\n"
          ]
        }
      ],
      "source": []
    },
    {
      "cell_type": "code",
      "execution_count": null,
      "metadata": {
        "id": "--6FrYzcUW66"
      },
      "outputs": [],
      "source": [
        "import random\n",
        "\n",
        "\n",
        "def 10_roll():\n",
        "  roll_nums =0\n",
        "  i=0\n",
        "\n",
        "  while i < 11:\n",
        "    di_roll = random.randint(0,7)\n",
        "    if di_roll:\n",
        "      print(di_roll)\n",
        "      roll_nums += 1\n",
        "    if roll_nums == 10:\n",
        "      return di_roll\n",
        "  return\n",
        "\n"
      ]
    },
    {
      "cell_type": "code",
      "execution_count": null,
      "metadata": {
        "colab": {
          "base_uri": "https://localhost:8080/"
        },
        "id": "8LrdfosuCuMp",
        "outputId": "e3065921-e5c7-4efd-b737-a61e2f199054"
      },
      "outputs": [
        {
          "name": "stdout",
          "output_type": "stream",
          "text": [
            "85\n"
          ]
        }
      ],
      "source": [
        "\n",
        "\n",
        "import random\n",
        "\n",
        "\"\"\"goal empire_steps = 60, fail = 65 range(0,101, i)\n",
        "random generator, \n",
        "if statement for 1 or 2 = -1\n",
        "if statement for generating 3,4,5 = +1\n",
        "if for 6 = roll again\n",
        ".001 prob of step = 0\n",
        "values must be above 0\n",
        "\"\"\"\n",
        "def empire_steps():\n",
        "  steps = 0\n",
        "  i = 0\n",
        "  roll_nums = 0\n",
        "  lost = 0\n",
        "\n",
        "  while i < 60:\n",
        "    di_roll = random.randint(0,7)\n",
        "    roll_nums += 1\n",
        "\n",
        "    if di_roll in [3,4,5]:\n",
        "      steps += 1\n",
        "      i += steps\n",
        "      roll_nums += 1\n",
        "\n",
        "    if di_roll in [1,2] and steps >= 0:\n",
        "      i -= 1\n",
        "      steps -= 1\n",
        "      roll_nums += 1\n",
        "    \n",
        "    if di_roll == 6:\n",
        "      fall =random.randint(0,1)\n",
        "      if fall == .1:\n",
        "        steps = 0\n",
        "        print('You fell! lol!')\n",
        "    \n",
        "    if roll_nums >= 100:\n",
        "      print('You LOSE!')\n",
        "      lost += 1\n",
        "      return roll_nums\n",
        "    \n",
        "  return roll_nums\n",
        "\n",
        "print(empire_steps())"
      ]
    },
    {
      "attachments": {},
      "cell_type": "markdown",
      "metadata": {},
      "source": [
        "### V01: Returning a list, single game"
      ]
    },
    {
      "cell_type": "code",
      "execution_count": 28,
      "metadata": {},
      "outputs": [
        {
          "name": "stdout",
          "output_type": "stream",
          "text": [
            "0 0\n",
            "1 6\n",
            "2 7\n",
            "3 6\n",
            "4 11\n",
            "5 10\n",
            "6 9\n",
            "7 8\n",
            "8 9\n",
            "9 8\n",
            "10 10\n"
          ]
        }
      ],
      "source": [
        "#  Returning a list, single game\n",
        "import random\n",
        "\n",
        "random.seed(42)\n",
        "threshold = 60\n",
        "\n",
        "def roll_die(value = None):\n",
        "  if value: return value\n",
        "  return random.randint(1,6)\n",
        "\n",
        "def empire_state(max_rolls = 100, roll_seed = None):\n",
        "  steps = [0]\n",
        "\n",
        "  for i in range(max_rolls):\n",
        "    roll = roll_die(roll_seed)\n",
        "\n",
        "    if random.random() < 0.001:\n",
        "      steps[i] = 0\n",
        "    if roll in [1,2]:\n",
        "      steps.append(max(steps[i]-1,0))\n",
        "    elif roll in [3,4,5]:\n",
        "      steps.append(steps[i] + 1)\n",
        "    elif roll == 6:\n",
        "      steps.append(steps[i]+roll_die(roll_seed))\n",
        "    else:\n",
        "      print(\"This shouldn't happen\")\n",
        "\n",
        "  return steps\n",
        "\n",
        "steps = empire_state(10)\n",
        "\n",
        "# generate output\n",
        "for i,x in enumerate(steps):\n",
        "  print(i,x)\n"
      ]
    },
    {
      "cell_type": "code",
      "execution_count": 16,
      "metadata": {},
      "outputs": [
        {
          "data": {
            "text/plain": [
              "3"
            ]
          },
          "execution_count": 16,
          "metadata": {},
          "output_type": "execute_result"
        }
      ],
      "source": [
        "roll_die(3)"
      ]
    },
    {
      "attachments": {},
      "cell_type": "markdown",
      "metadata": {},
      "source": [
        "### V02: Returning a list, using type hints, single game"
      ]
    },
    {
      "cell_type": "code",
      "execution_count": 29,
      "metadata": {},
      "outputs": [
        {
          "name": "stdout",
          "output_type": "stream",
          "text": [
            "0 0\n",
            "1 6\n",
            "2 7\n",
            "3 6\n",
            "4 11\n",
            "5 10\n",
            "6 9\n",
            "7 8\n",
            "8 9\n",
            "9 8\n",
            "10 10\n"
          ]
        }
      ],
      "source": [
        "#  Returning a list, using type hints, single game\n",
        "import random\n",
        "\n",
        "random.seed( 42 )\n",
        "threshold: int = 60\n",
        "\n",
        "def roll_die( value: int = None ) -> int:\n",
        "  if value: return value\n",
        "  return random.randint( 1, 6 )\n",
        "\n",
        "def empire_state( max_rolls: int = 100, roll_seed: int = None ) -> list:\n",
        "  steps: list = [0]\n",
        "\n",
        "  for i in range( max_rolls ):\n",
        "    roll: int = roll_die( roll_seed )\n",
        "\n",
        "    if random.random() < 0.001:\n",
        "      steps[i]: int = 0\n",
        "    if roll in [1,2]:\n",
        "      steps.append( max( steps[i]-1, 0 ) )\n",
        "    elif roll in [3,4,5]:\n",
        "      steps.append( steps[i] + 1 )\n",
        "    elif roll == 6:\n",
        "      steps.append( steps[i] + roll_die( roll_seed ) )\n",
        "    else:\n",
        "      print(\"This shouldn't happen\")\n",
        "\n",
        "  return steps\n",
        "\n",
        "steps: list = empire_state( 10 )\n",
        "\n",
        "# generate output\n",
        "for i,x in enumerate( steps ):\n",
        "  print( i, x )\n"
      ]
    },
    {
      "attachments": {},
      "cell_type": "markdown",
      "metadata": {},
      "source": [
        "### V03: Returning a list, using type hints, pre-fill array, single game"
      ]
    },
    {
      "cell_type": "code",
      "execution_count": 38,
      "metadata": {},
      "outputs": [
        {
          "name": "stdout",
          "output_type": "stream",
          "text": [
            "0 0\n",
            "1 6\n",
            "2 7\n",
            "3 6\n",
            "4 11\n",
            "5 10\n",
            "6 9\n",
            "7 8\n",
            "8 9\n",
            "9 8\n",
            "10 10\n"
          ]
        }
      ],
      "source": [
        "#  Returning a list, using type hints, pre-fill array, single game\n",
        "import random\n",
        "\n",
        "random.seed( 42 )\n",
        "threshold: int = 60\n",
        "\n",
        "def roll_die( value: int = None ) -> int:\n",
        "  if value: return value\n",
        "  return random.randint( 1, 6 )\n",
        "\n",
        "def empire_state( max_rolls: int = 100, roll_seed: int = None ) -> list:\n",
        "  steps: list = [0] * ( max_rolls + 1 )\n",
        "\n",
        "  for i in range( max_rolls ):\n",
        "    roll: int = roll_die( roll_seed )\n",
        "    j: int = i + 1\n",
        "\n",
        "    if random.random() < 0.001:\n",
        "      steps[i]: int = 0\n",
        "    if roll in [1,2]:\n",
        "      steps[j] = max( steps[i] - 1, 0 )\n",
        "    elif roll in [3,4,5]:\n",
        "      steps[j] = steps[i] + 1\n",
        "    elif roll == 6:\n",
        "      steps[j] = steps[i] + roll_die( roll_seed )\n",
        "    else:\n",
        "      print(\"This shouldn't happen\")\n",
        "\n",
        "  return steps\n",
        "\n",
        "steps: list = empire_state( 10 )\n",
        "\n",
        "# generate output\n",
        "for i,x in enumerate( steps ):\n",
        "  print( i, x )\n"
      ]
    },
    {
      "attachments": {},
      "cell_type": "markdown",
      "metadata": {},
      "source": [
        "### v04: Returning a list, using type hints, using a dictionary, single game"
      ]
    },
    {
      "cell_type": "code",
      "execution_count": 40,
      "metadata": {},
      "outputs": [
        {
          "name": "stdout",
          "output_type": "stream",
          "text": [
            "0 0\n",
            "1 6\n",
            "2 7\n",
            "3 6\n",
            "4 11\n",
            "5 10\n",
            "6 9\n",
            "7 8\n",
            "8 9\n",
            "9 8\n",
            "10 10\n"
          ]
        }
      ],
      "source": [
        "#  Returning a list, using type hints, using a dictionary, single game\n",
        "import random\n",
        "\n",
        "random.seed( 42 )\n",
        "threshold: int = 60\n",
        "points: dict = {\n",
        "  1: -1,\n",
        "  2: -1,\n",
        "  3: 1,\n",
        "  4: 1,\n",
        "  5: 1,\n",
        "  6: 0,\n",
        "}\n",
        "\n",
        "def roll_die( value: int = None ) -> int:\n",
        "  if value: return value\n",
        "  return random.randint( 1, 6 )\n",
        "\n",
        "def empire_state( max_rolls: int = 100, roll_seed: int = None ) -> list:\n",
        "  steps: list = [0] * ( max_rolls + 1 )\n",
        "\n",
        "  for i in range( max_rolls ):\n",
        "    roll: int = roll_die( roll_seed )\n",
        "    j: int = i + 1\n",
        "    if random.random() < 0.001: steps[i] = 0\n",
        "\n",
        "    if roll == 6: points[6] = roll_die( roll_seed )\n",
        "    steps[j] = max( steps[i] + points[roll], 0 )\n",
        "\n",
        "  return steps\n",
        "\n",
        "steps: list = empire_state( 10 )\n",
        "\n",
        "# generate output\n",
        "for i,x in enumerate( steps ):\n",
        "  print( i, x )\n"
      ]
    },
    {
      "attachments": {},
      "cell_type": "markdown",
      "metadata": {},
      "source": [
        "### Walk through"
      ]
    },
    {
      "cell_type": "code",
      "execution_count": 49,
      "metadata": {},
      "outputs": [
        {
          "name": "stdout",
          "output_type": "stream",
          "text": [
            "0.58\n"
          ]
        }
      ],
      "source": [
        "import random\n",
        "\n",
        "random.seed( 42 )\n",
        "\n",
        "def die_roll(x = None):\n",
        "    if x: return x\n",
        "    return random.randint(1,6)\n",
        "\n",
        "def empire_state(loaded = None):\n",
        "    current_step = counter_60 = 0\n",
        "    max_count = 100\n",
        "\n",
        "    for i in range(max_count):\n",
        "        if current_step == 60 :\n",
        "            counter_60 += 1\n",
        "\n",
        "        roll = die_roll(loaded)\n",
        "\n",
        "        if random.random() < 0.001:\n",
        "            current_step = 0\n",
        "        if roll in [1,2]:\n",
        "            current_step += -1\n",
        "            current_step = max(current_step,0)\n",
        "        elif roll in [3,4,5]:\n",
        "            current_step += 1\n",
        "        elif roll == 6:\n",
        "            current_step += die_roll(loaded)\n",
        "    return counter_60\n",
        "\n",
        "plus_60 = 0\n",
        "max_games = 100\n",
        "games = []\n",
        "for i in range(1,max_games+1):\n",
        "    play = empire_state()\n",
        "    games.append(play)\n",
        "\n",
        "plus_60 = len([ 1 for i in games if i ])\n",
        "\n",
        "print(plus_60/max_games)\n"
      ]
    },
    {
      "cell_type": "code",
      "execution_count": 50,
      "metadata": {},
      "outputs": [
        {
          "data": {
            "text/plain": [
              "[0,\n",
              " 5,\n",
              " 3,\n",
              " 4,\n",
              " 4,\n",
              " 0,\n",
              " 1,\n",
              " 5,\n",
              " 0,\n",
              " 0,\n",
              " 1,\n",
              " 1,\n",
              " 1,\n",
              " 3,\n",
              " 1,\n",
              " 0,\n",
              " 2,\n",
              " 4,\n",
              " 4,\n",
              " 2,\n",
              " 1,\n",
              " 5,\n",
              " 1,\n",
              " 0,\n",
              " 0,\n",
              " 1,\n",
              " 2,\n",
              " 0,\n",
              " 0,\n",
              " 1,\n",
              " 2,\n",
              " 0,\n",
              " 3,\n",
              " 2,\n",
              " 0,\n",
              " 1,\n",
              " 0,\n",
              " 2,\n",
              " 0,\n",
              " 5,\n",
              " 1,\n",
              " 0,\n",
              " 0,\n",
              " 1,\n",
              " 0,\n",
              " 1,\n",
              " 0,\n",
              " 0,\n",
              " 3,\n",
              " 0,\n",
              " 1,\n",
              " 3,\n",
              " 3,\n",
              " 1,\n",
              " 4,\n",
              " 1,\n",
              " 0,\n",
              " 2,\n",
              " 0,\n",
              " 0,\n",
              " 1,\n",
              " 0,\n",
              " 3,\n",
              " 0,\n",
              " 0,\n",
              " 1,\n",
              " 0,\n",
              " 1,\n",
              " 0,\n",
              " 2,\n",
              " 1,\n",
              " 1,\n",
              " 0,\n",
              " 1,\n",
              " 0,\n",
              " 0,\n",
              " 0,\n",
              " 0,\n",
              " 0,\n",
              " 1,\n",
              " 2,\n",
              " 0,\n",
              " 1,\n",
              " 0,\n",
              " 0,\n",
              " 1,\n",
              " 0,\n",
              " 1,\n",
              " 0,\n",
              " 0,\n",
              " 1,\n",
              " 0,\n",
              " 1,\n",
              " 0,\n",
              " 1,\n",
              " 2,\n",
              " 0,\n",
              " 2,\n",
              " 3,\n",
              " 1]"
            ]
          },
          "execution_count": 50,
          "metadata": {},
          "output_type": "execute_result"
        }
      ],
      "source": [
        "games"
      ]
    },
    {
      "cell_type": "code",
      "execution_count": 60,
      "metadata": {},
      "outputs": [
        {
          "data": {
            "text/plain": [
              "<zip at 0x7f574bbd0900>"
            ]
          },
          "execution_count": 60,
          "metadata": {},
          "output_type": "execute_result"
        }
      ],
      "source": [
        "zip(*list(enumerate(games)))\n",
        "\n",
        "\n"
      ]
    },
    {
      "cell_type": "code",
      "execution_count": 65,
      "metadata": {},
      "outputs": [
        {
          "data": {
            "image/png": "[encoded data removed]",
            "text/plain": [
              "<Figure size 640x480 with 1 Axes>"
            ]
          },
          "metadata": {},
          "output_type": "display_data"
        }
      ],
      "source": [
        "import matplotlib.pyplot as plt\n",
        "\n",
        "plt.plot(games) ;\n"
      ]
    },
    {
      "cell_type": "code",
      "execution_count": null,
      "metadata": {},
      "outputs": [],
      "source": [
        "\n"
      ]
    }
  ],
  "metadata": {
    "colab": {
      "include_colab_link": true,
      "provenance": []
    },
    "kernelspec": {
      "display_name": "Python 3",
      "name": "python3"
    },
    "language_info": {
      "codemirror_mode": {
        "name": "ipython",
        "version": 3
      },
      "file_extension": ".py",
      "mimetype": "text/x-python",
      "name": "python",
      "nbconvert_exporter": "python",
      "pygments_lexer": "ipython3",
      "version": "3.10.4"
    }
  },
  "nbformat": 4,
  "nbformat_minor": 0
}
